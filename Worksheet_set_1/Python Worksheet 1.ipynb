{
 "cells": [
  {
   "cell_type": "markdown",
   "id": "d84fdd7f",
   "metadata": {},
   "source": [
    "Q11 to Q15 are programming questions. Answer them in Jupyter Notebook.\n",
    "\n",
    "11. Write a python program to find the factorial of a number."
   ]
  },
  {
   "cell_type": "code",
   "execution_count": 34,
   "id": "5a093627",
   "metadata": {},
   "outputs": [
    {
     "name": "stdout",
     "output_type": "stream",
     "text": [
      "Enter a number: 2\n",
      "The Factorial of the number is: 2\n"
     ]
    }
   ],
   "source": [
    "num=int(input(\"Enter a number: \"))\n",
    "fact=1\n",
    "if num<0:\n",
    "    print(\"Number is negative factorial can not be calculated\")\n",
    "elif num==0:\n",
    "    print(\"Factorial is 1\")\n",
    "else:\n",
    "    for i in range(1,num+1):\n",
    "        fact=fact*i\n",
    "    print(\"The Factorial of the number is:\", fact)"
   ]
  },
  {
   "cell_type": "markdown",
   "id": "e718e206",
   "metadata": {},
   "source": [
    "12. Write a python program to find whether a number is prime or composite."
   ]
  },
  {
   "cell_type": "code",
   "execution_count": 32,
   "id": "8ba07950",
   "metadata": {},
   "outputs": [
    {
     "name": "stdout",
     "output_type": "stream",
     "text": [
      "Enter the number: 6\n",
      "The number is composite 6\n"
     ]
    }
   ],
   "source": [
    "num=int(input(\"Enter the number: \"))\n",
    "if num>1:\n",
    "    for i in range(2, num):\n",
    "        if (num%i)==0:\n",
    "            print(\"The number is composite\",num)\n",
    "            break\n",
    "    else:\n",
    "            print(\"The number is prime\", num)\n",
    "        \n",
    "else:\n",
    "    print(\"The number is prime 1\", num)"
   ]
  },
  {
   "cell_type": "markdown",
   "id": "eb920d9b",
   "metadata": {},
   "source": [
    "13. Write a python program to check whether a given string is palindrome or not."
   ]
  },
  {
   "cell_type": "code",
   "execution_count": 37,
   "id": "cb9ac38c",
   "metadata": {},
   "outputs": [
    {
     "name": "stdout",
     "output_type": "stream",
     "text": [
      "Enter a number: 12321\n",
      "Number is a palindrome\n"
     ]
    }
   ],
   "source": [
    "num=int(input(\"Enter a number: \"))\n",
    "temp=num\n",
    "rev=0\n",
    "while (num>0):\n",
    "    rmdr=num%10\n",
    "    rev=rev*10+rmdr\n",
    "    num=num//10\n",
    "    \n",
    "if (rev==temp):\n",
    "    print(\"Number is a palindrome\")\n",
    "else:\n",
    "    print(\"number is not palindrome\")\n"
   ]
  },
  {
   "cell_type": "code",
   "execution_count": 44,
   "id": "5fafa726",
   "metadata": {},
   "outputs": [
    {
     "name": "stdout",
     "output_type": "stream",
     "text": [
      "Enter a number: 12321\n",
      "Number is a palindrome\n"
     ]
    }
   ],
   "source": [
    "n=input(\"Enter a number: \")\n",
    "\n",
    "if n== n[::-1]:\n",
    "    print(\"Number is a palindrome\")\n",
    "else:\n",
    "    print(\"number is not palindrome\")"
   ]
  },
  {
   "cell_type": "markdown",
   "id": "6dd99e8b",
   "metadata": {},
   "source": [
    "14. Write a Python program to get the third side of right-angled triangle from two given sides."
   ]
  },
  {
   "cell_type": "code",
   "execution_count": 67,
   "id": "307493f3",
   "metadata": {},
   "outputs": [
    {
     "name": "stdout",
     "output_type": "stream",
     "text": [
      "Enter the length: 4.7\n",
      "Enter the Breadth: 2.5\n",
      "The hypotneous is: 5.323532661682466\n"
     ]
    }
   ],
   "source": [
    "import math\n",
    "\n",
    "side_l=float(input(\"Enter the length: \"))\n",
    "side_b=float(input(\"Enter the Breadth: \"))\n",
    "\n",
    "side_h=math.sqrt((side_l**2)+(side_b**2))\n",
    "\n",
    "\n",
    "print(\"The hypotneous is:\" , side_h)"
   ]
  },
  {
   "cell_type": "markdown",
   "id": "4caff7dc",
   "metadata": {},
   "source": [
    "15. Write a python program to print the frequency of each of the characters present in a given string."
   ]
  },
  {
   "cell_type": "code",
   "execution_count": 68,
   "id": "8597b499",
   "metadata": {},
   "outputs": [
    {
     "name": "stdout",
     "output_type": "stream",
     "text": [
      "Enter a string:we are learning python\n",
      "Result is:  {'w': 1, 'e': 3, ' ': 3, 'a': 2, 'r': 2, 'l': 1, 'n': 3, 'i': 1, 'g': 1, 'p': 1, 'y': 1, 't': 1, 'h': 1, 'o': 1}\n"
     ]
    }
   ],
   "source": [
    "str1=input(\"Enter a string:\")\n",
    "\n",
    "count={}\n",
    "for i in str1:\n",
    "    if i in count:\n",
    "        count[i]+=1\n",
    "    else:\n",
    "        count[i]=1\n",
    "\n",
    "print(\"Result is: \", count)"
   ]
  }
 ],
 "metadata": {
  "kernelspec": {
   "display_name": "Python 3 (ipykernel)",
   "language": "python",
   "name": "python3"
  },
  "language_info": {
   "codemirror_mode": {
    "name": "ipython",
    "version": 3
   },
   "file_extension": ".py",
   "mimetype": "text/x-python",
   "name": "python",
   "nbconvert_exporter": "python",
   "pygments_lexer": "ipython3",
   "version": "3.11.5"
  }
 },
 "nbformat": 4,
 "nbformat_minor": 5
}
